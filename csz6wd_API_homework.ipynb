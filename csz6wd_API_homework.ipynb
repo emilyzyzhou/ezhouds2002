{
  "nbformat": 4,
  "nbformat_minor": 0,
  "metadata": {
    "colab": {
      "provenance": []
    },
    "kernelspec": {
      "name": "python3",
      "display_name": "Python 3"
    },
    "language_info": {
      "name": "python"
    }
  },
  "cells": [
    {
      "cell_type": "markdown",
      "source": [
        "### Challenge:\n",
        "You have seen some examples of how to interact with JSON, CSV and make API Calls. Take\n",
        "some time to explore the YAHOO Finance Guide at https://financeapi.net/ which shows you\n",
        "endpoints for calling information. Your job is to code a Python Program that does the following\n",
        "things:\n",
        "1. Takes user input for a stock (using the Ticker Symbol): IE with the input() command\n",
        "2. You will display back the user: Ticker Name, Full Name of the Stock, Current Market\n",
        "Price, Target Mean Price, 52 week high and 52 week low. Also, output 5 of the current\n",
        "trending stock.\n",
        "3. Put that data in a DataFrame and then store that to a CSV file\n",
        "4. Handle Errors (IE, the stock doesn’t exist and/or the API is not returning information)\n",
        "You will have to read the documentation and figure out which modules to call to get the data\n",
        "that you need. You will need to make more than one call to this API. Use the examples in our\n",
        "Zoom Session to guide you, but the documentation will be enough. Post your code to GitHub.\n",
        "### Bonus –\n",
        "1. Use MatPlotLib to chart the historical price of a stock price’s highest value over the past\n",
        "5 days.\n"
      ],
      "metadata": {
        "id": "2kmdw2gkNqUe"
      }
    },
    {
      "cell_type": "code",
      "execution_count": 1,
      "metadata": {
        "id": "o_yUqTPPNARR"
      },
      "outputs": [],
      "source": [
        "import json\n",
        "import pandas as pd\n",
        "import json\n",
        "import requests\n",
        "\n",
        "#get stock from the user\n",
        "# stock=input()\n",
        "# print(\"The Stock we will research is:\" + stock)\n",
        "\n",
        "apikey=\"mQNZK1nQ0n5KktdUxat5z8rlxwoMtytH2OHvWyFx\"\n",
        "\n",
        "# url = \"https://yfapi.net/v6/finance/quote\"\n",
        "\n",
        "# querystring = {\"symbols\":stock}\n",
        "\n",
        "# headers = {\n",
        "#     'x-api-key': apikey\n",
        "#     }\n",
        "\n",
        "# response = requests.request(\"GET\", url, headers=headers, params=querystring)\n",
        "\n",
        "# print(response.text)\n",
        "\n",
        "# #print the company name and price\n",
        "# stock_json = response.json()\n",
        "# print(stock_json['quoteResponse']['result'][0][\"longName\"] + \" Price:$\" + str(stock_json['quoteResponse']['result'][0][\"regularMarketPrice\"]))"
      ]
    },
    {
      "cell_type": "markdown",
      "source": [
        "Ticker Name, Full Name of the Stock, Current Market Price, Target Mean Price, 52 week high and 52 week low. Also, output 5 of the current trending stock."
      ],
      "metadata": {
        "id": "wOWCoUAVOPWn"
      }
    },
    {
      "cell_type": "code",
      "source": [
        "BASE_URL = 'https://yfapi.net'\n",
        "\n",
        "def get_stock_data(ticker):\n",
        "    url = f\"{BASE_URL}/v6/finance/quote\"\n",
        "    headers = {\n",
        "        'x-api-key': apikey\n",
        "    }\n",
        "\n",
        "    querystring = {\"symbols\":ticker}\n",
        "    response = requests.request(\"GET\", url, headers=headers, params=querystring)\n",
        "\n",
        "    #for mean data\n",
        "    modules = \"financialData\"\n",
        "    params = {\"modules\":modules}\n",
        "    mean_url = f\"{BASE_URL}/v11/finance/quoteSummary/{ticker}\"\n",
        "    mean_response = requests.request(\"GET\", mean_url, headers=headers, params=params)\n",
        "\n",
        "\n",
        "    if response.status_code == 200 or mean_response.status_code == 200:\n",
        "        stock_json = response.json()\n",
        "        mean_json = mean_response.json()\n",
        "        print(mean_json)\n",
        "        stock_info = {\n",
        "            'Ticker Name': stock_json['quoteResponse']['result'][0][\"symbol\"],\n",
        "            'Full Name': stock_json['quoteResponse']['result'][0][\"longName\"],\n",
        "            'Current Market Price': stock_json['quoteResponse']['result'][0][\"regularMarketPrice\"],\n",
        "            'Target Mean Price': mean_json['quoteSummary']['result'][0]['financialData']['targetMeanPrice']['raw'],\n",
        "            '52 Week High': stock_json['quoteResponse']['result'][0][\"fiftyTwoWeekHigh\"],\n",
        "            '52 Week Low': stock_json['quoteResponse']['result'][0][\"fiftyTwoWeekLow\"]\n",
        "        }\n",
        "        return stock_info\n",
        "    else:\n",
        "        print(f\"Error fetching data for {ticker}: {response.status_code}\")\n",
        "        return None\n",
        "\n",
        "ticker = input(\"Enter the stock ticker symbol (e.g., AAPL): \").upper()\n",
        "stock_data = get_stock_data(ticker)\n",
        "if stock_data:\n",
        "    for key, value in stock_data.items():\n",
        "        print(f\"{key}: {value}\")"
      ],
      "metadata": {
        "id": "wWxIzwopOQVY",
        "colab": {
          "base_uri": "https://localhost:8080/"
        },
        "outputId": "8251e9a1-eb4f-47b3-e467-c0d00c985b09"
      },
      "execution_count": 13,
      "outputs": [
        {
          "output_type": "stream",
          "name": "stdout",
          "text": [
            "Enter the stock ticker symbol (e.g., AAPL): AAPL\n",
            "{'quoteSummary': {'result': [{'financialData': {'maxAge': 86400, 'currentPrice': {'raw': 227.725, 'fmt': '227.73'}, 'targetHighPrice': {'raw': 300.0, 'fmt': '300.00'}, 'targetLowPrice': {'raw': 183.86, 'fmt': '183.86'}, 'targetMeanPrice': {'raw': 240.58, 'fmt': '240.58'}, 'targetMedianPrice': {'raw': 243.0, 'fmt': '243.00'}, 'recommendationMean': {'raw': 2.0, 'fmt': '2.00'}, 'recommendationKey': 'buy', 'numberOfAnalystOpinions': {'raw': 40, 'fmt': '40', 'longFmt': '40'}, 'totalCash': {'raw': 61801000960, 'fmt': '61.8B', 'longFmt': '61,801,000,960'}, 'totalCashPerShare': {'raw': 4.065, 'fmt': '4.07'}, 'ebitda': {'raw': 131781001216, 'fmt': '131.78B', 'longFmt': '131,781,001,216'}, 'totalDebt': {'raw': 101304000512, 'fmt': '101.3B', 'longFmt': '101,304,000,512'}, 'quickRatio': {'raw': 0.798, 'fmt': '0.80'}, 'currentRatio': {'raw': 0.953, 'fmt': '0.95'}, 'totalRevenue': {'raw': 385603010560, 'fmt': '385.6B', 'longFmt': '385,603,010,560'}, 'debtToEquity': {'raw': 151.862, 'fmt': '151.86%'}, 'revenuePerShare': {'raw': 24.957, 'fmt': '24.96'}, 'returnOnAssets': {'raw': 0.22612, 'fmt': '22.61%'}, 'returnOnEquity': {'raw': 1.60583, 'fmt': '160.58%'}, 'grossProfits': {}, 'freeCashflow': {'raw': 86158123008, 'fmt': '86.16B', 'longFmt': '86,158,123,008'}, 'operatingCashflow': {'raw': 113040998400, 'fmt': '113.04B', 'longFmt': '113,040,998,400'}, 'earningsGrowth': {'raw': 0.111, 'fmt': '11.10%'}, 'revenueGrowth': {'raw': 0.049, 'fmt': '4.90%'}, 'grossMargins': {'raw': 0.45962003, 'fmt': '45.96%'}, 'ebitdaMargins': {'raw': 0.34175, 'fmt': '34.17%'}, 'operatingMargins': {'raw': 0.29556, 'fmt': '29.56%'}, 'profitMargins': {'raw': 0.26441, 'fmt': '26.44%'}, 'financialCurrency': 'USD'}}], 'error': None}}\n",
            "Ticker Name: AAPL\n",
            "Full Name: Apple Inc.\n",
            "Current Market Price: 227.725\n",
            "Target Mean Price: 240.58\n",
            "52 Week High: 237.23\n",
            "52 Week Low: 164.08\n"
          ]
        }
      ]
    },
    {
      "cell_type": "code",
      "source": [
        "def get_trending_stocks():\n",
        "    url = f\"{BASE_URL}/v1/finance/trending/US\" #setting base region to US\n",
        "    headers = {\n",
        "        'x-api-key': apikey\n",
        "    }\n",
        "\n",
        "    response = requests.get(url, headers=headers)\n",
        "\n",
        "    if response.status_code == 200:\n",
        "        return response.json()\n",
        "    else:\n",
        "        print(f\"Error fetching trending stocks: {response.status_code}\")\n",
        "        return None\n",
        "\n",
        "def get_top_5_trending_stocks(data):\n",
        "    try:\n",
        "        quotes = data['finance']['result'][0]['quotes']\n",
        "        top_5 = [quote['symbol'] for quote in quotes[:5]]\n",
        "        return top_5\n",
        "    except (KeyError, IndexError, TypeError):\n",
        "        return None"
      ],
      "metadata": {
        "id": "-wxMh5jHPFCW"
      },
      "execution_count": 14,
      "outputs": []
    },
    {
      "cell_type": "code",
      "source": [
        "trending_stocks_data = get_trending_stocks()\n",
        "trending_stocks = get_top_5_trending_stocks(trending_stocks_data)\n",
        "if trending_stocks:\n",
        "    print(\"\\nTrending Stocks:\")\n",
        "    for stock in trending_stocks:\n",
        "        print(stock)"
      ],
      "metadata": {
        "colab": {
          "base_uri": "https://localhost:8080/"
        },
        "id": "EH00G4IINaEC",
        "outputId": "e2a1f794-8e9f-4c99-a018-e4826dd0317a"
      },
      "execution_count": 15,
      "outputs": [
        {
          "output_type": "stream",
          "name": "stdout",
          "text": [
            "\n",
            "Trending Stocks:\n",
            "NQ=F\n",
            "ES=F\n",
            "YM=F\n",
            "AMSC\n",
            "GC=F\n"
          ]
        }
      ]
    },
    {
      "cell_type": "code",
      "source": [
        "if trending_stocks:\n",
        "    df = pd.DataFrame(trending_stocks, columns=['Symbol'])\n",
        "\n",
        "    print(\"\\nTrending Stocks:\")\n",
        "    print(df)\n",
        "\n",
        "    csv_filename = 'trending_stocks.csv'\n",
        "    df.to_csv(csv_filename, index=False)\n",
        "    print(f\"\\nData saved to {csv_filename}\")\n",
        "else:\n",
        "    print(\"No trending stocks data available.\")"
      ],
      "metadata": {
        "colab": {
          "base_uri": "https://localhost:8080/"
        },
        "id": "L9Q4t6O4YxWh",
        "outputId": "f1302817-74f5-492d-cc38-dd4c9e073eef"
      },
      "execution_count": 16,
      "outputs": [
        {
          "output_type": "stream",
          "name": "stdout",
          "text": [
            "\n",
            "Trending Stocks:\n",
            "  Symbol\n",
            "0   NQ=F\n",
            "1   ES=F\n",
            "2   YM=F\n",
            "3   AMSC\n",
            "4   GC=F\n",
            "\n",
            "Data saved to trending_stocks.csv\n"
          ]
        }
      ]
    },
    {
      "cell_type": "markdown",
      "source": [
        "### bonus?"
      ],
      "metadata": {
        "id": "Pt6WmXQtcFgm"
      }
    },
    {
      "cell_type": "code",
      "source": [
        "def get_stocks_high():\n",
        "    url = f\"{BASE_URL}/v8/finance/chart/{ticker}\"\n",
        "    headers = {\n",
        "        'x-api-key': apikey\n",
        "    }\n",
        "    params = {\"range\":\"5d\",\n",
        "              \"interval\":\"1d\",\n",
        "              \"events\":\"div%2Csplit\"}\n",
        "    response = requests.get(url, headers=headers,params=params)\n",
        "\n",
        "    if response.status_code == 200:\n",
        "        return response.json()\n",
        "    else:\n",
        "        print(f\"Error fetching trending stocks: {response.status_code}\")\n",
        "        return None"
      ],
      "metadata": {
        "id": "9mnrndtTcdXE"
      },
      "execution_count": 51,
      "outputs": []
    },
    {
      "cell_type": "code",
      "source": [
        "def get_stock_high_5d(data):\n",
        "    try:\n",
        "        charts = data['chart']['result'][0]['indicators']['quote'][0]['high']\n",
        "        return charts\n",
        "    except (KeyError, IndexError, TypeError):\n",
        "        return None"
      ],
      "metadata": {
        "id": "Wx-YlOhXdIsH"
      },
      "execution_count": 58,
      "outputs": []
    },
    {
      "cell_type": "code",
      "source": [
        "stock_high = get_stocks_high()\n",
        "stock_high_5d = get_stock_high_5d(stock_high)\n",
        "if stock_high_5d:\n",
        "    print(stock_high_5d)"
      ],
      "metadata": {
        "colab": {
          "base_uri": "https://localhost:8080/"
        },
        "id": "MIzskIwJd6gB",
        "outputId": "ee94cd42-d75a-4249-ecb5-926c10ee8c37"
      },
      "execution_count": 59,
      "outputs": [
        {
          "output_type": "stream",
          "name": "stdout",
          "text": [
            "[229.4499969482422, 229.35000610351562, 227.2899932861328, 228.5, 229.52000427246094]\n"
          ]
        }
      ]
    },
    {
      "cell_type": "code",
      "source": [
        "import matplotlib.pyplot as plt\n",
        "import numpy as np\n",
        "\n",
        "dates = np.arange(1, len(stock_high_5d) + 1)\n",
        "\n",
        "plt.figure(figsize=(10, 5))\n",
        "plt.plot(dates, stock_high_5d, label=f'{ticker} High Price')\n",
        "plt.title(f'{ticker} Highest Price Over the Past 5 Days')\n",
        "plt.xlabel('Date')\n",
        "plt.ylabel('Price (USD)')\n",
        "plt.legend()\n",
        "plt.grid(True)\n",
        "\n",
        "plt.xticks(rotation=45)\n",
        "\n",
        "plt.tight_layout()\n",
        "plt.show()"
      ],
      "metadata": {
        "colab": {
          "base_uri": "https://localhost:8080/",
          "height": 507
        },
        "id": "LPnLkMmeeUBb",
        "outputId": "ce70a5b0-adcc-4611-c17a-3ce1a8e2305f"
      },
      "execution_count": 70,
      "outputs": [
        {
          "output_type": "display_data",
          "data": {
            "text/plain": [
              "<Figure size 1000x500 with 1 Axes>"
            ],
            "image/png": "[encoded data removed]"
          },
          "metadata": {}
        }
      ]
    }
  ]
}